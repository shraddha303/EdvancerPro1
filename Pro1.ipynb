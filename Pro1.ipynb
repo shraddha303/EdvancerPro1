{
 "cells": [
  {
   "cell_type": "code",
   "execution_count": 1,
   "metadata": {},
   "outputs": [],
   "source": [
    "train1=r'D:\\\\Users\\\\shrshirk\\\\Desktop\\\\ds\\\\Pro1\\\\P1 Data\\\\Consumer_Complaints_train.csv'\n",
    "test1=r'D:\\\\Users\\\\shrshirk\\\\Desktop\\\\ds\\\\Pro1\\\\P1 Data\\\\Consumer_Complaints_test_share.csv'"
   ]
  },
  {
   "cell_type": "code",
   "execution_count": 2,
   "metadata": {},
   "outputs": [],
   "source": [
    "import numpy as np\n",
    "import pandas as pd"
   ]
  },
  {
   "cell_type": "code",
   "execution_count": 3,
   "metadata": {},
   "outputs": [],
   "source": [
    "train=pd.read_csv(train1)\n",
    "test=pd.read_csv(test1)"
   ]
  },
  {
   "cell_type": "code",
   "execution_count": 4,
   "metadata": {},
   "outputs": [],
   "source": [
    "test5=pd.read_csv(test1)"
   ]
  },
  {
   "cell_type": "code",
   "execution_count": 5,
   "metadata": {},
   "outputs": [
    {
     "data": {
      "text/html": [
       "<div>\n",
       "<style scoped>\n",
       "    .dataframe tbody tr th:only-of-type {\n",
       "        vertical-align: middle;\n",
       "    }\n",
       "\n",
       "    .dataframe tbody tr th {\n",
       "        vertical-align: top;\n",
       "    }\n",
       "\n",
       "    .dataframe thead th {\n",
       "        text-align: right;\n",
       "    }\n",
       "</style>\n",
       "<table border=\"1\" class=\"dataframe\">\n",
       "  <thead>\n",
       "    <tr style=\"text-align: right;\">\n",
       "      <th></th>\n",
       "      <th>Date received</th>\n",
       "      <th>Product</th>\n",
       "      <th>Sub-product</th>\n",
       "      <th>Issue</th>\n",
       "      <th>Sub-issue</th>\n",
       "      <th>Consumer complaint narrative</th>\n",
       "      <th>Company public response</th>\n",
       "      <th>Company</th>\n",
       "      <th>State</th>\n",
       "      <th>ZIP code</th>\n",
       "      <th>Tags</th>\n",
       "      <th>Consumer consent provided?</th>\n",
       "      <th>Submitted via</th>\n",
       "      <th>Date sent to company</th>\n",
       "      <th>Company response to consumer</th>\n",
       "      <th>Timely response?</th>\n",
       "      <th>Consumer disputed?</th>\n",
       "      <th>Complaint ID</th>\n",
       "    </tr>\n",
       "  </thead>\n",
       "  <tbody>\n",
       "    <tr>\n",
       "      <th>0</th>\n",
       "      <td>2014-05-15</td>\n",
       "      <td>Credit card</td>\n",
       "      <td>NaN</td>\n",
       "      <td>Billing statement</td>\n",
       "      <td>NaN</td>\n",
       "      <td>NaN</td>\n",
       "      <td>NaN</td>\n",
       "      <td>Wells Fargo &amp; Company</td>\n",
       "      <td>MI</td>\n",
       "      <td>48342</td>\n",
       "      <td>Older American</td>\n",
       "      <td>NaN</td>\n",
       "      <td>Web</td>\n",
       "      <td>2014-05-16</td>\n",
       "      <td>Closed with explanation</td>\n",
       "      <td>Yes</td>\n",
       "      <td>No</td>\n",
       "      <td>856103</td>\n",
       "    </tr>\n",
       "    <tr>\n",
       "      <th>1</th>\n",
       "      <td>2014-09-18</td>\n",
       "      <td>Bank account or service</td>\n",
       "      <td>(CD) Certificate of deposit</td>\n",
       "      <td>Making/receiving payments, sending money</td>\n",
       "      <td>NaN</td>\n",
       "      <td>NaN</td>\n",
       "      <td>NaN</td>\n",
       "      <td>Santander Bank US</td>\n",
       "      <td>PA</td>\n",
       "      <td>18042</td>\n",
       "      <td>NaN</td>\n",
       "      <td>NaN</td>\n",
       "      <td>Referral</td>\n",
       "      <td>2014-09-24</td>\n",
       "      <td>Closed</td>\n",
       "      <td>Yes</td>\n",
       "      <td>No</td>\n",
       "      <td>1034666</td>\n",
       "    </tr>\n",
       "    <tr>\n",
       "      <th>2</th>\n",
       "      <td>2014-03-13</td>\n",
       "      <td>Credit reporting</td>\n",
       "      <td>NaN</td>\n",
       "      <td>Incorrect information on credit report</td>\n",
       "      <td>Account status</td>\n",
       "      <td>NaN</td>\n",
       "      <td>NaN</td>\n",
       "      <td>Equifax</td>\n",
       "      <td>CA</td>\n",
       "      <td>92427</td>\n",
       "      <td>NaN</td>\n",
       "      <td>NaN</td>\n",
       "      <td>Referral</td>\n",
       "      <td>2014-04-03</td>\n",
       "      <td>Closed with non-monetary relief</td>\n",
       "      <td>Yes</td>\n",
       "      <td>No</td>\n",
       "      <td>756363</td>\n",
       "    </tr>\n",
       "    <tr>\n",
       "      <th>3</th>\n",
       "      <td>2015-07-17</td>\n",
       "      <td>Credit card</td>\n",
       "      <td>NaN</td>\n",
       "      <td>Billing statement</td>\n",
       "      <td>NaN</td>\n",
       "      <td>My credit card statement from US Bank, XXXX. X...</td>\n",
       "      <td>Company chooses not to provide a public response</td>\n",
       "      <td>U.S. Bancorp</td>\n",
       "      <td>GA</td>\n",
       "      <td>305XX</td>\n",
       "      <td>Older American</td>\n",
       "      <td>Consent provided</td>\n",
       "      <td>Web</td>\n",
       "      <td>2015-07-17</td>\n",
       "      <td>Closed with monetary relief</td>\n",
       "      <td>Yes</td>\n",
       "      <td>No</td>\n",
       "      <td>1474177</td>\n",
       "    </tr>\n",
       "    <tr>\n",
       "      <th>4</th>\n",
       "      <td>2014-11-20</td>\n",
       "      <td>Credit card</td>\n",
       "      <td>NaN</td>\n",
       "      <td>Transaction issue</td>\n",
       "      <td>NaN</td>\n",
       "      <td>NaN</td>\n",
       "      <td>NaN</td>\n",
       "      <td>Bank of America</td>\n",
       "      <td>MA</td>\n",
       "      <td>02127</td>\n",
       "      <td>NaN</td>\n",
       "      <td>NaN</td>\n",
       "      <td>Web</td>\n",
       "      <td>2014-11-28</td>\n",
       "      <td>Closed with explanation</td>\n",
       "      <td>Yes</td>\n",
       "      <td>No</td>\n",
       "      <td>1132572</td>\n",
       "    </tr>\n",
       "  </tbody>\n",
       "</table>\n",
       "</div>"
      ],
      "text/plain": [
       "  Date received                  Product                  Sub-product  \\\n",
       "0    2014-05-15              Credit card                          NaN   \n",
       "1    2014-09-18  Bank account or service  (CD) Certificate of deposit   \n",
       "2    2014-03-13         Credit reporting                          NaN   \n",
       "3    2015-07-17              Credit card                          NaN   \n",
       "4    2014-11-20              Credit card                          NaN   \n",
       "\n",
       "                                      Issue       Sub-issue  \\\n",
       "0                         Billing statement             NaN   \n",
       "1  Making/receiving payments, sending money             NaN   \n",
       "2    Incorrect information on credit report  Account status   \n",
       "3                         Billing statement             NaN   \n",
       "4                         Transaction issue             NaN   \n",
       "\n",
       "                        Consumer complaint narrative  \\\n",
       "0                                                NaN   \n",
       "1                                                NaN   \n",
       "2                                                NaN   \n",
       "3  My credit card statement from US Bank, XXXX. X...   \n",
       "4                                                NaN   \n",
       "\n",
       "                            Company public response                Company  \\\n",
       "0                                               NaN  Wells Fargo & Company   \n",
       "1                                               NaN      Santander Bank US   \n",
       "2                                               NaN                Equifax   \n",
       "3  Company chooses not to provide a public response           U.S. Bancorp   \n",
       "4                                               NaN        Bank of America   \n",
       "\n",
       "  State ZIP code            Tags Consumer consent provided? Submitted via  \\\n",
       "0    MI    48342  Older American                        NaN           Web   \n",
       "1    PA    18042             NaN                        NaN      Referral   \n",
       "2    CA    92427             NaN                        NaN      Referral   \n",
       "3    GA    305XX  Older American           Consent provided           Web   \n",
       "4    MA    02127             NaN                        NaN           Web   \n",
       "\n",
       "  Date sent to company     Company response to consumer Timely response?  \\\n",
       "0           2014-05-16          Closed with explanation              Yes   \n",
       "1           2014-09-24                           Closed              Yes   \n",
       "2           2014-04-03  Closed with non-monetary relief              Yes   \n",
       "3           2015-07-17      Closed with monetary relief              Yes   \n",
       "4           2014-11-28          Closed with explanation              Yes   \n",
       "\n",
       "  Consumer disputed?  Complaint ID  \n",
       "0                 No        856103  \n",
       "1                 No       1034666  \n",
       "2                 No        756363  \n",
       "3                 No       1474177  \n",
       "4                 No       1132572  "
      ]
     },
     "execution_count": 5,
     "metadata": {},
     "output_type": "execute_result"
    }
   ],
   "source": [
    "train.head()"
   ]
  },
  {
   "cell_type": "code",
   "execution_count": 6,
   "metadata": {},
   "outputs": [
    {
     "data": {
      "text/html": [
       "<div>\n",
       "<style scoped>\n",
       "    .dataframe tbody tr th:only-of-type {\n",
       "        vertical-align: middle;\n",
       "    }\n",
       "\n",
       "    .dataframe tbody tr th {\n",
       "        vertical-align: top;\n",
       "    }\n",
       "\n",
       "    .dataframe thead th {\n",
       "        text-align: right;\n",
       "    }\n",
       "</style>\n",
       "<table border=\"1\" class=\"dataframe\">\n",
       "  <thead>\n",
       "    <tr style=\"text-align: right;\">\n",
       "      <th></th>\n",
       "      <th>Date received</th>\n",
       "      <th>Product</th>\n",
       "      <th>Sub-product</th>\n",
       "      <th>Issue</th>\n",
       "      <th>Sub-issue</th>\n",
       "      <th>Consumer complaint narrative</th>\n",
       "      <th>Company public response</th>\n",
       "      <th>Company</th>\n",
       "      <th>State</th>\n",
       "      <th>ZIP code</th>\n",
       "      <th>Tags</th>\n",
       "      <th>Consumer consent provided?</th>\n",
       "      <th>Submitted via</th>\n",
       "      <th>Date sent to company</th>\n",
       "      <th>Company response to consumer</th>\n",
       "      <th>Timely response?</th>\n",
       "      <th>Complaint ID</th>\n",
       "    </tr>\n",
       "  </thead>\n",
       "  <tbody>\n",
       "    <tr>\n",
       "      <th>0</th>\n",
       "      <td>2014-01-18</td>\n",
       "      <td>Bank account or service</td>\n",
       "      <td>Cashing a check without an account</td>\n",
       "      <td>Deposits and withdrawals</td>\n",
       "      <td>NaN</td>\n",
       "      <td>NaN</td>\n",
       "      <td>NaN</td>\n",
       "      <td>Bank of America</td>\n",
       "      <td>CA</td>\n",
       "      <td>95691</td>\n",
       "      <td>NaN</td>\n",
       "      <td>NaN</td>\n",
       "      <td>Web</td>\n",
       "      <td>2014-01-17</td>\n",
       "      <td>Closed with explanation</td>\n",
       "      <td>Yes</td>\n",
       "      <td>675956</td>\n",
       "    </tr>\n",
       "    <tr>\n",
       "      <th>1</th>\n",
       "      <td>2016-03-31</td>\n",
       "      <td>Debt collection</td>\n",
       "      <td>Credit card</td>\n",
       "      <td>Cont'd attempts collect debt not owed</td>\n",
       "      <td>Debt was paid</td>\n",
       "      <td>NaN</td>\n",
       "      <td>NaN</td>\n",
       "      <td>National Credit Adjusters, LLC</td>\n",
       "      <td>FL</td>\n",
       "      <td>32086</td>\n",
       "      <td>NaN</td>\n",
       "      <td>Consent not provided</td>\n",
       "      <td>Web</td>\n",
       "      <td>2016-03-31</td>\n",
       "      <td>Closed with explanation</td>\n",
       "      <td>Yes</td>\n",
       "      <td>1858795</td>\n",
       "    </tr>\n",
       "    <tr>\n",
       "      <th>2</th>\n",
       "      <td>2012-03-08</td>\n",
       "      <td>Mortgage</td>\n",
       "      <td>Conventional adjustable mortgage (ARM)</td>\n",
       "      <td>Loan servicing, payments, escrow account</td>\n",
       "      <td>NaN</td>\n",
       "      <td>NaN</td>\n",
       "      <td>NaN</td>\n",
       "      <td>Wells Fargo &amp; Company</td>\n",
       "      <td>CA</td>\n",
       "      <td>94618</td>\n",
       "      <td>NaN</td>\n",
       "      <td>NaN</td>\n",
       "      <td>Web</td>\n",
       "      <td>2012-03-09</td>\n",
       "      <td>Closed without relief</td>\n",
       "      <td>Yes</td>\n",
       "      <td>32637</td>\n",
       "    </tr>\n",
       "    <tr>\n",
       "      <th>3</th>\n",
       "      <td>2016-01-07</td>\n",
       "      <td>Credit reporting</td>\n",
       "      <td>NaN</td>\n",
       "      <td>Unable to get credit report/credit score</td>\n",
       "      <td>Problem getting report or credit score</td>\n",
       "      <td>NaN</td>\n",
       "      <td>Company chooses not to provide a public response</td>\n",
       "      <td>TransUnion Intermediate Holdings, Inc.</td>\n",
       "      <td>FL</td>\n",
       "      <td>33584</td>\n",
       "      <td>Older American</td>\n",
       "      <td>NaN</td>\n",
       "      <td>Postal mail</td>\n",
       "      <td>2016-01-12</td>\n",
       "      <td>Closed with non-monetary relief</td>\n",
       "      <td>Yes</td>\n",
       "      <td>1731374</td>\n",
       "    </tr>\n",
       "    <tr>\n",
       "      <th>4</th>\n",
       "      <td>2013-08-23</td>\n",
       "      <td>Mortgage</td>\n",
       "      <td>FHA mortgage</td>\n",
       "      <td>Loan modification,collection,foreclosure</td>\n",
       "      <td>NaN</td>\n",
       "      <td>NaN</td>\n",
       "      <td>NaN</td>\n",
       "      <td>Bank of America</td>\n",
       "      <td>FL</td>\n",
       "      <td>33543</td>\n",
       "      <td>NaN</td>\n",
       "      <td>NaN</td>\n",
       "      <td>Web</td>\n",
       "      <td>2013-08-23</td>\n",
       "      <td>Closed with explanation</td>\n",
       "      <td>Yes</td>\n",
       "      <td>501487</td>\n",
       "    </tr>\n",
       "  </tbody>\n",
       "</table>\n",
       "</div>"
      ],
      "text/plain": [
       "  Date received                  Product  \\\n",
       "0    2014-01-18  Bank account or service   \n",
       "1    2016-03-31          Debt collection   \n",
       "2    2012-03-08                 Mortgage   \n",
       "3    2016-01-07         Credit reporting   \n",
       "4    2013-08-23                 Mortgage   \n",
       "\n",
       "                              Sub-product  \\\n",
       "0      Cashing a check without an account   \n",
       "1                             Credit card   \n",
       "2  Conventional adjustable mortgage (ARM)   \n",
       "3                                     NaN   \n",
       "4                            FHA mortgage   \n",
       "\n",
       "                                      Issue  \\\n",
       "0                  Deposits and withdrawals   \n",
       "1     Cont'd attempts collect debt not owed   \n",
       "2  Loan servicing, payments, escrow account   \n",
       "3  Unable to get credit report/credit score   \n",
       "4  Loan modification,collection,foreclosure   \n",
       "\n",
       "                                Sub-issue Consumer complaint narrative  \\\n",
       "0                                     NaN                          NaN   \n",
       "1                           Debt was paid                          NaN   \n",
       "2                                     NaN                          NaN   \n",
       "3  Problem getting report or credit score                          NaN   \n",
       "4                                     NaN                          NaN   \n",
       "\n",
       "                            Company public response  \\\n",
       "0                                               NaN   \n",
       "1                                               NaN   \n",
       "2                                               NaN   \n",
       "3  Company chooses not to provide a public response   \n",
       "4                                               NaN   \n",
       "\n",
       "                                  Company State ZIP code            Tags  \\\n",
       "0                         Bank of America    CA    95691             NaN   \n",
       "1          National Credit Adjusters, LLC    FL    32086             NaN   \n",
       "2                   Wells Fargo & Company    CA    94618             NaN   \n",
       "3  TransUnion Intermediate Holdings, Inc.    FL    33584  Older American   \n",
       "4                         Bank of America    FL    33543             NaN   \n",
       "\n",
       "  Consumer consent provided? Submitted via Date sent to company  \\\n",
       "0                        NaN           Web           2014-01-17   \n",
       "1       Consent not provided           Web           2016-03-31   \n",
       "2                        NaN           Web           2012-03-09   \n",
       "3                        NaN   Postal mail           2016-01-12   \n",
       "4                        NaN           Web           2013-08-23   \n",
       "\n",
       "      Company response to consumer Timely response?  Complaint ID  \n",
       "0          Closed with explanation              Yes        675956  \n",
       "1          Closed with explanation              Yes       1858795  \n",
       "2            Closed without relief              Yes         32637  \n",
       "3  Closed with non-monetary relief              Yes       1731374  \n",
       "4          Closed with explanation              Yes        501487  "
      ]
     },
     "execution_count": 6,
     "metadata": {},
     "output_type": "execute_result"
    }
   ],
   "source": [
    "test.head()"
   ]
  },
  {
   "cell_type": "code",
   "execution_count": 7,
   "metadata": {},
   "outputs": [],
   "source": [
    "test['Consumer disputed?']=np.nan\n",
    "test['data']='test'\n",
    "train['data']='train'"
   ]
  },
  {
   "cell_type": "code",
   "execution_count": 8,
   "metadata": {},
   "outputs": [
    {
     "name": "stderr",
     "output_type": "stream",
     "text": [
      "D:\\Users\\shrshirk\\Software\\Python\\anaconda\\lib\\site-packages\\ipykernel_launcher.py:1: FutureWarning: Sorting because non-concatenation axis is not aligned. A future version\n",
      "of pandas will change to not sort by default.\n",
      "\n",
      "To accept the future behavior, pass 'sort=True'.\n",
      "\n",
      "To retain the current behavior and silence the warning, pass sort=False\n",
      "\n",
      "  \"\"\"Entry point for launching an IPython kernel.\n"
     ]
    }
   ],
   "source": [
    "all_data=pd.concat([train,test], axis=0)"
   ]
  },
  {
   "cell_type": "code",
   "execution_count": 9,
   "metadata": {},
   "outputs": [
    {
     "data": {
      "text/plain": [
       "(119606, 19)"
      ]
     },
     "execution_count": 9,
     "metadata": {},
     "output_type": "execute_result"
    }
   ],
   "source": [
    "test.shape"
   ]
  },
  {
   "cell_type": "code",
   "execution_count": 10,
   "metadata": {
    "scrolled": true
   },
   "outputs": [
    {
     "data": {
      "text/plain": [
       "Company                         object\n",
       "Company public response         object\n",
       "Company response to consumer    object\n",
       "Complaint ID                     int64\n",
       "Consumer complaint narrative    object\n",
       "Consumer consent provided?      object\n",
       "Consumer disputed?              object\n",
       "Date received                   object\n",
       "Date sent to company            object\n",
       "Issue                           object\n",
       "Product                         object\n",
       "State                           object\n",
       "Sub-issue                       object\n",
       "Sub-product                     object\n",
       "Submitted via                   object\n",
       "Tags                            object\n",
       "Timely response?                object\n",
       "ZIP code                        object\n",
       "data                            object\n",
       "dtype: object"
      ]
     },
     "execution_count": 10,
     "metadata": {},
     "output_type": "execute_result"
    }
   ],
   "source": [
    "all_data.dtypes"
   ]
  },
  {
   "cell_type": "code",
   "execution_count": 41,
   "metadata": {},
   "outputs": [
    {
     "data": {
      "text/plain": [
       "27342"
      ]
     },
     "execution_count": 41,
     "metadata": {},
     "output_type": "execute_result"
    }
   ],
   "source": [
    "all_data['ZIP code'].nunique()"
   ]
  },
  {
   "cell_type": "code",
   "execution_count": 12,
   "metadata": {},
   "outputs": [
    {
     "ename": "AttributeError",
     "evalue": "'DataFrameGroupBy' object has no attribute 'value_counts'",
     "output_type": "error",
     "traceback": [
      "\u001b[1;31m---------------------------------------------------------------------------\u001b[0m",
      "\u001b[1;31mAttributeError\u001b[0m                            Traceback (most recent call last)",
      "\u001b[1;32m<ipython-input-12-648c193b8f3e>\u001b[0m in \u001b[0;36m<module>\u001b[1;34m()\u001b[0m\n\u001b[1;32m----> 1\u001b[1;33m \u001b[0mall_data\u001b[0m\u001b[1;33m.\u001b[0m\u001b[0mgroupby\u001b[0m\u001b[1;33m(\u001b[0m\u001b[1;33m[\u001b[0m\u001b[1;34m'Company'\u001b[0m\u001b[1;33m,\u001b[0m\u001b[1;34m'Consumer disputed?'\u001b[0m\u001b[1;33m]\u001b[0m\u001b[1;33m)\u001b[0m\u001b[1;33m.\u001b[0m\u001b[0mvalue_counts\u001b[0m\u001b[1;33m(\u001b[0m\u001b[1;33m)\u001b[0m\u001b[1;33m\u001b[0m\u001b[0m\n\u001b[0m",
      "\u001b[1;32mD:\\Users\\shrshirk\\Software\\Python\\anaconda\\lib\\site-packages\\pandas\\core\\groupby\\groupby.py\u001b[0m in \u001b[0;36m__getattr__\u001b[1;34m(self, attr)\u001b[0m\n\u001b[0;32m    763\u001b[0m \u001b[1;33m\u001b[0m\u001b[0m\n\u001b[0;32m    764\u001b[0m         raise AttributeError(\"%r object has no attribute %r\" %\n\u001b[1;32m--> 765\u001b[1;33m                              (type(self).__name__, attr))\n\u001b[0m\u001b[0;32m    766\u001b[0m \u001b[1;33m\u001b[0m\u001b[0m\n\u001b[0;32m    767\u001b[0m     @Substitution(klass='GroupBy',\n",
      "\u001b[1;31mAttributeError\u001b[0m: 'DataFrameGroupBy' object has no attribute 'value_counts'"
     ]
    }
   ],
   "source": [
    "all_data.groupby(['Company','Consumer disputed?']).value_counts()"
   ]
  },
  {
   "cell_type": "code",
   "execution_count": 11,
   "metadata": {},
   "outputs": [],
   "source": [
    "k=all_data['Date received'].str.split(\"-\",expand = True).astype(int)"
   ]
  },
  {
   "cell_type": "code",
   "execution_count": 12,
   "metadata": {},
   "outputs": [],
   "source": [
    "all_data['Date received_int']=(k[0]*365)+(k[1]*30)+k[2]"
   ]
  },
  {
   "cell_type": "code",
   "execution_count": 13,
   "metadata": {},
   "outputs": [
    {
     "data": {
      "text/plain": [
       "0         735275\n",
       "1         735398\n",
       "2         735213\n",
       "3         735702\n",
       "4         735460\n",
       "5         735316\n",
       "6         734678\n",
       "7         735631\n",
       "8         734830\n",
       "9         735960\n",
       "10        735221\n",
       "11        735832\n",
       "12        734513\n",
       "13        735218\n",
       "14        735990\n",
       "15        735767\n",
       "16        735118\n",
       "17        735830\n",
       "18        735307\n",
       "19        735211\n",
       "20        735258\n",
       "21        734952\n",
       "22        734727\n",
       "23        735627\n",
       "24        735768\n",
       "25        735602\n",
       "26        735000\n",
       "27        735540\n",
       "28        734924\n",
       "29        736042\n",
       "           ...  \n",
       "119576    735731\n",
       "119577    734986\n",
       "119578    735909\n",
       "119579    735747\n",
       "119580    735575\n",
       "119581    735252\n",
       "119582    735934\n",
       "119583    735706\n",
       "119584    735742\n",
       "119585    736014\n",
       "119586    735793\n",
       "119587    736000\n",
       "119588    735076\n",
       "119589    735769\n",
       "119590    735843\n",
       "119591    735919\n",
       "119592    735526\n",
       "119593    735799\n",
       "119594    735622\n",
       "119595    735231\n",
       "119596    734849\n",
       "119597    734505\n",
       "119598    735525\n",
       "119599    735638\n",
       "119600    734797\n",
       "119601    734665\n",
       "119602    736071\n",
       "119603    735664\n",
       "119604    735196\n",
       "119605    735546\n",
       "Name: Date received_int, Length: 598027, dtype: int32"
      ]
     },
     "execution_count": 13,
     "metadata": {},
     "output_type": "execute_result"
    }
   ],
   "source": [
    "all_data['Date received_int']"
   ]
  },
  {
   "cell_type": "code",
   "execution_count": 14,
   "metadata": {},
   "outputs": [],
   "source": [
    "k=all_data['Date sent to company'].str.split(\"-\",expand = True).astype(int)"
   ]
  },
  {
   "cell_type": "code",
   "execution_count": 15,
   "metadata": {},
   "outputs": [],
   "source": [
    "all_data['Date sent to company_int']=((k[0]*365)+(k[1]*30)+k[2]).astype(int)"
   ]
  },
  {
   "cell_type": "code",
   "execution_count": 16,
   "metadata": {},
   "outputs": [],
   "source": [
    "all_data['Date sent to company_DOW']=pd.to_datetime(all_data['Date sent to company']).dt.dayofweek.astype(int)"
   ]
  },
  {
   "cell_type": "code",
   "execution_count": 17,
   "metadata": {},
   "outputs": [],
   "source": [
    "all_data['Date received_DOW']=pd.to_datetime(all_data['Date received']).dt.dayofweek.astype(int)"
   ]
  },
  {
   "cell_type": "code",
   "execution_count": 18,
   "metadata": {},
   "outputs": [
    {
     "data": {
      "text/plain": [
       "0         3\n",
       "1         3\n",
       "2         3\n",
       "3         4\n",
       "4         3\n",
       "5         3\n",
       "6         4\n",
       "7         2\n",
       "8         0\n",
       "9         2\n",
       "10        4\n",
       "11        4\n",
       "12        4\n",
       "13        1\n",
       "14        5\n",
       "15        1\n",
       "16        4\n",
       "17        2\n",
       "18        1\n",
       "19        1\n",
       "20        0\n",
       "21        3\n",
       "22        5\n",
       "23        5\n",
       "24        2\n",
       "25        1\n",
       "26        3\n",
       "27        3\n",
       "28        2\n",
       "29        2\n",
       "         ..\n",
       "119576    6\n",
       "119577    2\n",
       "119578    1\n",
       "119579    2\n",
       "119580    1\n",
       "119581    1\n",
       "119582    4\n",
       "119583    1\n",
       "119584    3\n",
       "119585    1\n",
       "119586    6\n",
       "119587    1\n",
       "119588    3\n",
       "119589    3\n",
       "119590    1\n",
       "119591    4\n",
       "119592    2\n",
       "119593    5\n",
       "119594    0\n",
       "119595    0\n",
       "119596    3\n",
       "119597    3\n",
       "119598    1\n",
       "119599    2\n",
       "119600    1\n",
       "119601    5\n",
       "119602    3\n",
       "119603    1\n",
       "119604    2\n",
       "119605    2\n",
       "Name: Date received_DOW, Length: 598027, dtype: int32"
      ]
     },
     "execution_count": 18,
     "metadata": {},
     "output_type": "execute_result"
    }
   ],
   "source": [
    "all_data['Date received_DOW']"
   ]
  },
  {
   "cell_type": "code",
   "execution_count": 57,
   "metadata": {},
   "outputs": [],
   "source": [
    "all_data['Date sent to company_DOW']=pd.to_datetime(all_data['Date sent to company']).dt.dayofweek.astype(int)"
   ]
  },
  {
   "cell_type": "code",
   "execution_count": 19,
   "metadata": {},
   "outputs": [],
   "source": [
    "all_data.drop(['Date received','Date sent to company'], axis=1, inplace=True)"
   ]
  },
  {
   "cell_type": "code",
   "execution_count": 20,
   "metadata": {},
   "outputs": [],
   "source": [
    "all_data.drop(['Complaint ID','Consumer complaint narrative','ZIP code'], axis=1, inplace=True)"
   ]
  },
  {
   "cell_type": "code",
   "execution_count": 21,
   "metadata": {},
   "outputs": [],
   "source": [
    "all_data.drop(['Company','Issue','State','Sub-issue','Sub-product'], axis=1, inplace=True)"
   ]
  },
  {
   "cell_type": "code",
   "execution_count": 22,
   "metadata": {},
   "outputs": [
    {
     "data": {
      "text/plain": [
       "Company public response         object\n",
       "Company response to consumer    object\n",
       "Consumer consent provided?      object\n",
       "Consumer disputed?              object\n",
       "Product                         object\n",
       "Submitted via                   object\n",
       "Tags                            object\n",
       "Timely response?                object\n",
       "data                            object\n",
       "Date received_int                int32\n",
       "Date sent to company_int         int32\n",
       "Date sent to company_DOW         int32\n",
       "Date received_DOW                int32\n",
       "dtype: object"
      ]
     },
     "execution_count": 22,
     "metadata": {},
     "output_type": "execute_result"
    }
   ],
   "source": [
    "all_data.dtypes"
   ]
  },
  {
   "cell_type": "code",
   "execution_count": 23,
   "metadata": {},
   "outputs": [],
   "source": [
    "cat_vars=all_data.select_dtypes(['object']).columns"
   ]
  },
  {
   "cell_type": "code",
   "execution_count": 24,
   "metadata": {},
   "outputs": [
    {
     "data": {
      "text/plain": [
       "Index(['Company public response', 'Company response to consumer',\n",
       "       'Consumer consent provided?', 'Consumer disputed?', 'Product',\n",
       "       'Submitted via', 'Tags', 'Timely response?', 'data'],\n",
       "      dtype='object')"
      ]
     },
     "execution_count": 24,
     "metadata": {},
     "output_type": "execute_result"
    }
   ],
   "source": [
    "cat_vars"
   ]
  },
  {
   "cell_type": "code",
   "execution_count": 25,
   "metadata": {},
   "outputs": [
    {
     "name": "stdout",
     "output_type": "stream",
     "text": [
      "Company public response\n",
      "Company response to consumer\n",
      "Consumer consent provided?\n",
      "Consumer disputed?\n",
      "Product\n",
      "Submitted via\n",
      "Tags\n",
      "Timely response?\n"
     ]
    }
   ],
   "source": [
    "for col in cat_vars[:-1]:\n",
    "    dummy=pd.get_dummies(all_data[col],drop_first=True,prefix=col)\n",
    "    all_data=pd.concat([all_data,dummy],axis=1)\n",
    "    del all_data[col]\n",
    "    print(col)\n",
    "del dummy"
   ]
  },
  {
   "cell_type": "code",
   "execution_count": 26,
   "metadata": {},
   "outputs": [
    {
     "data": {
      "text/plain": [
       "data                                                                                                                       object\n",
       "Date received_int                                                                                                           int32\n",
       "Date sent to company_int                                                                                                    int32\n",
       "Date sent to company_DOW                                                                                                    int32\n",
       "Date received_DOW                                                                                                           int32\n",
       "Company public response_Company believes complaint is the result of an isolated error                                       uint8\n",
       "Company public response_Company believes complaint relates to a discontinued policy or procedure                            uint8\n",
       "Company public response_Company believes complaint represents an opportunity for improvement to better serve consumers      uint8\n",
       "Company public response_Company believes it acted appropriately as authorized by contract or law                            uint8\n",
       "Company public response_Company believes the complaint is the result of a misunderstanding                                  uint8\n",
       "Company public response_Company can't verify or dispute the facts in the complaint                                          uint8\n",
       "Company public response_Company chooses not to provide a public response                                                    uint8\n",
       "Company public response_Company disputes the facts presented in the complaint                                               uint8\n",
       "Company public response_Company has responded to the consumer and the CFPB and chooses not to provide a public response     uint8\n",
       "Company response to consumer_Closed with explanation                                                                        uint8\n",
       "Company response to consumer_Closed with monetary relief                                                                    uint8\n",
       "Company response to consumer_Closed with non-monetary relief                                                                uint8\n",
       "Company response to consumer_Closed with relief                                                                             uint8\n",
       "Company response to consumer_Closed without relief                                                                          uint8\n",
       "Company response to consumer_Untimely response                                                                              uint8\n",
       "Consumer consent provided?_Consent provided                                                                                 uint8\n",
       "Consumer consent provided?_Consent withdrawn                                                                                uint8\n",
       "Consumer consent provided?_Other                                                                                            uint8\n",
       "Consumer disputed?_Yes                                                                                                      uint8\n",
       "Product_Consumer Loan                                                                                                       uint8\n",
       "Product_Credit card                                                                                                         uint8\n",
       "Product_Credit reporting                                                                                                    uint8\n",
       "Product_Debt collection                                                                                                     uint8\n",
       "Product_Money transfers                                                                                                     uint8\n",
       "Product_Mortgage                                                                                                            uint8\n",
       "Product_Other financial service                                                                                             uint8\n",
       "Product_Payday loan                                                                                                         uint8\n",
       "Product_Prepaid card                                                                                                        uint8\n",
       "Product_Student loan                                                                                                        uint8\n",
       "Product_Virtual currency                                                                                                    uint8\n",
       "Submitted via_Fax                                                                                                           uint8\n",
       "Submitted via_Phone                                                                                                         uint8\n",
       "Submitted via_Postal mail                                                                                                   uint8\n",
       "Submitted via_Referral                                                                                                      uint8\n",
       "Submitted via_Web                                                                                                           uint8\n",
       "Tags_Older American, Servicemember                                                                                          uint8\n",
       "Tags_Servicemember                                                                                                          uint8\n",
       "Timely response?_Yes                                                                                                        uint8\n",
       "dtype: object"
      ]
     },
     "execution_count": 26,
     "metadata": {},
     "output_type": "execute_result"
    }
   ],
   "source": [
    "all_data.dtypes"
   ]
  },
  {
   "cell_type": "code",
   "execution_count": 27,
   "metadata": {},
   "outputs": [
    {
     "data": {
      "text/plain": [
       "data                                                                                                                       0\n",
       "Date received_int                                                                                                          0\n",
       "Date sent to company_int                                                                                                   0\n",
       "Date sent to company_DOW                                                                                                   0\n",
       "Date received_DOW                                                                                                          0\n",
       "Company public response_Company believes complaint is the result of an isolated error                                      0\n",
       "Company public response_Company believes complaint relates to a discontinued policy or procedure                           0\n",
       "Company public response_Company believes complaint represents an opportunity for improvement to better serve consumers     0\n",
       "Company public response_Company believes it acted appropriately as authorized by contract or law                           0\n",
       "Company public response_Company believes the complaint is the result of a misunderstanding                                 0\n",
       "Company public response_Company can't verify or dispute the facts in the complaint                                         0\n",
       "Company public response_Company chooses not to provide a public response                                                   0\n",
       "Company public response_Company disputes the facts presented in the complaint                                              0\n",
       "Company public response_Company has responded to the consumer and the CFPB and chooses not to provide a public response    0\n",
       "Company response to consumer_Closed with explanation                                                                       0\n",
       "Company response to consumer_Closed with monetary relief                                                                   0\n",
       "Company response to consumer_Closed with non-monetary relief                                                               0\n",
       "Company response to consumer_Closed with relief                                                                            0\n",
       "Company response to consumer_Closed without relief                                                                         0\n",
       "Company response to consumer_Untimely response                                                                             0\n",
       "Consumer consent provided?_Consent provided                                                                                0\n",
       "Consumer consent provided?_Consent withdrawn                                                                               0\n",
       "Consumer consent provided?_Other                                                                                           0\n",
       "Consumer disputed?_Yes                                                                                                     0\n",
       "Product_Consumer Loan                                                                                                      0\n",
       "Product_Credit card                                                                                                        0\n",
       "Product_Credit reporting                                                                                                   0\n",
       "Product_Debt collection                                                                                                    0\n",
       "Product_Money transfers                                                                                                    0\n",
       "Product_Mortgage                                                                                                           0\n",
       "Product_Other financial service                                                                                            0\n",
       "Product_Payday loan                                                                                                        0\n",
       "Product_Prepaid card                                                                                                       0\n",
       "Product_Student loan                                                                                                       0\n",
       "Product_Virtual currency                                                                                                   0\n",
       "Submitted via_Fax                                                                                                          0\n",
       "Submitted via_Phone                                                                                                        0\n",
       "Submitted via_Postal mail                                                                                                  0\n",
       "Submitted via_Referral                                                                                                     0\n",
       "Submitted via_Web                                                                                                          0\n",
       "Tags_Older American, Servicemember                                                                                         0\n",
       "Tags_Servicemember                                                                                                         0\n",
       "Timely response?_Yes                                                                                                       0\n",
       "dtype: int64"
      ]
     },
     "execution_count": 27,
     "metadata": {},
     "output_type": "execute_result"
    }
   ],
   "source": [
    "all_data.isnull().sum()"
   ]
  },
  {
   "cell_type": "code",
   "execution_count": 28,
   "metadata": {},
   "outputs": [],
   "source": [
    "train=all_data[all_data['data']=='train']\n",
    "test=all_data[all_data['data']=='test']"
   ]
  },
  {
   "cell_type": "code",
   "execution_count": 29,
   "metadata": {},
   "outputs": [],
   "source": [
    "del train['data']"
   ]
  },
  {
   "cell_type": "code",
   "execution_count": 30,
   "metadata": {},
   "outputs": [
    {
     "name": "stderr",
     "output_type": "stream",
     "text": [
      "D:\\Users\\shrshirk\\Software\\Python\\anaconda\\lib\\site-packages\\pandas\\core\\frame.py:3694: SettingWithCopyWarning: \n",
      "A value is trying to be set on a copy of a slice from a DataFrame\n",
      "\n",
      "See the caveats in the documentation: http://pandas.pydata.org/pandas-docs/stable/indexing.html#indexing-view-versus-copy\n",
      "  errors=errors)\n"
     ]
    }
   ],
   "source": [
    "test.drop(['data','Consumer disputed?_Yes'],axis=1,inplace=True)"
   ]
  },
  {
   "cell_type": "code",
   "execution_count": 31,
   "metadata": {},
   "outputs": [
    {
     "data": {
      "text/plain": [
       "(478421, 42)"
      ]
     },
     "execution_count": 31,
     "metadata": {},
     "output_type": "execute_result"
    }
   ],
   "source": [
    "train.shape"
   ]
  },
  {
   "cell_type": "code",
   "execution_count": 32,
   "metadata": {},
   "outputs": [
    {
     "data": {
      "text/plain": [
       "(119606, 41)"
      ]
     },
     "execution_count": 32,
     "metadata": {},
     "output_type": "execute_result"
    }
   ],
   "source": [
    "test.shape"
   ]
  },
  {
   "cell_type": "code",
   "execution_count": 33,
   "metadata": {},
   "outputs": [],
   "source": [
    "x_train=train.drop('Consumer disputed?_Yes',axis=1)\n",
    "y_train=train['Consumer disputed?_Yes']"
   ]
  },
  {
   "cell_type": "code",
   "execution_count": 34,
   "metadata": {},
   "outputs": [],
   "source": [
    "from sklearn.ensemble import RandomForestClassifier"
   ]
  },
  {
   "cell_type": "code",
   "execution_count": 35,
   "metadata": {},
   "outputs": [],
   "source": [
    "from sklearn.model_selection import RandomizedSearchCV"
   ]
  },
  {
   "cell_type": "code",
   "execution_count": 36,
   "metadata": {},
   "outputs": [],
   "source": [
    "param_dist = {\"n_estimators\":[100,200,300,500,700,1000], \n",
    "\"max_features\": [5,10,20,25,30,35], \n",
    "\"bootstrap\": [True, False], \n",
    "\"class_weight\":[None,'balanced'], \n",
    "\"criterion\":['entropy','gini'], \n",
    "\"max_depth\":[None,5,10,15,20,30,50,70], \n",
    "\"min_samples_leaf\":[1,2,5,10,15,20], \n",
    "\"min_samples_split\":[2,5,10,15,20]} "
   ]
  },
  {
   "cell_type": "code",
   "execution_count": 37,
   "metadata": {},
   "outputs": [],
   "source": [
    "rf=RandomForestClassifier()"
   ]
  },
  {
   "cell_type": "code",
   "execution_count": 38,
   "metadata": {},
   "outputs": [
    {
     "name": "stdout",
     "output_type": "stream",
     "text": [
      "Fitting 5 folds for each of 10 candidates, totalling 50 fits\n"
     ]
    },
    {
     "name": "stderr",
     "output_type": "stream",
     "text": [
      "[Parallel(n_jobs=-1)]: Done   1 tasks      | elapsed: 29.6min\n",
      "[Parallel(n_jobs=-1)]: Done   2 tasks      | elapsed: 29.8min\n",
      "[Parallel(n_jobs=-1)]: Done   3 tasks      | elapsed: 30.2min\n",
      "[Parallel(n_jobs=-1)]: Done   4 tasks      | elapsed: 30.4min\n",
      "[Parallel(n_jobs=-1)]: Done   5 tasks      | elapsed: 37.2min\n",
      "[Parallel(n_jobs=-1)]: Done   6 tasks      | elapsed: 37.5min\n",
      "[Parallel(n_jobs=-1)]: Done   7 tasks      | elapsed: 37.8min\n",
      "[Parallel(n_jobs=-1)]: Done   8 tasks      | elapsed: 45.5min\n",
      "[Parallel(n_jobs=-1)]: Done   9 tasks      | elapsed: 45.9min\n",
      "[Parallel(n_jobs=-1)]: Done  10 tasks      | elapsed: 53.2min\n",
      "[Parallel(n_jobs=-1)]: Done  11 tasks      | elapsed: 60.1min\n",
      "[Parallel(n_jobs=-1)]: Done  12 tasks      | elapsed: 61.8min\n",
      "[Parallel(n_jobs=-1)]: Done  13 tasks      | elapsed: 62.2min\n",
      "[Parallel(n_jobs=-1)]: Done  14 tasks      | elapsed: 69.6min\n",
      "[Parallel(n_jobs=-1)]: Done  15 tasks      | elapsed: 72.6min\n",
      "[Parallel(n_jobs=-1)]: Done  16 tasks      | elapsed: 73.1min\n",
      "[Parallel(n_jobs=-1)]: Done  17 tasks      | elapsed: 75.9min\n",
      "[Parallel(n_jobs=-1)]: Done  18 tasks      | elapsed: 79.9min\n",
      "[Parallel(n_jobs=-1)]: Done  19 tasks      | elapsed: 80.1min\n",
      "[Parallel(n_jobs=-1)]: Done  20 tasks      | elapsed: 82.7min\n",
      "[Parallel(n_jobs=-1)]: Done  21 tasks      | elapsed: 83.2min\n",
      "[Parallel(n_jobs=-1)]: Done  22 tasks      | elapsed: 84.0min\n",
      "[Parallel(n_jobs=-1)]: Done  23 tasks      | elapsed: 84.2min\n",
      "[Parallel(n_jobs=-1)]: Done  24 tasks      | elapsed: 87.1min\n",
      "[Parallel(n_jobs=-1)]: Done  25 tasks      | elapsed: 87.9min\n",
      "[Parallel(n_jobs=-1)]: Done  26 tasks      | elapsed: 95.3min\n",
      "[Parallel(n_jobs=-1)]: Done  27 tasks      | elapsed: 95.3min\n",
      "[Parallel(n_jobs=-1)]: Done  28 tasks      | elapsed: 97.9min\n",
      "[Parallel(n_jobs=-1)]: Done  29 tasks      | elapsed: 98.3min\n",
      "[Parallel(n_jobs=-1)]: Done  30 tasks      | elapsed: 105.5min\n",
      "[Parallel(n_jobs=-1)]: Done  31 tasks      | elapsed: 134.1min\n",
      "[Parallel(n_jobs=-1)]: Done  32 tasks      | elapsed: 136.8min\n",
      "[Parallel(n_jobs=-1)]: Done  33 tasks      | elapsed: 137.3min\n",
      "[Parallel(n_jobs=-1)]: Done  34 tasks      | elapsed: 144.2min\n",
      "[Parallel(n_jobs=-1)]: Done  35 tasks      | elapsed: 146.2min\n",
      "[Parallel(n_jobs=-1)]: Done  36 tasks      | elapsed: 147.1min\n",
      "[Parallel(n_jobs=-1)]: Done  37 tasks      | elapsed: 154.5min\n",
      "[Parallel(n_jobs=-1)]: Done  38 tasks      | elapsed: 156.3min\n",
      "[Parallel(n_jobs=-1)]: Done  39 tasks      | elapsed: 157.3min\n",
      "[Parallel(n_jobs=-1)]: Done  40 tasks      | elapsed: 175.2min\n",
      "[Parallel(n_jobs=-1)]: Done  41 tasks      | elapsed: 181.8min\n",
      "[Parallel(n_jobs=-1)]: Done  42 tasks      | elapsed: 183.3min\n",
      "[Parallel(n_jobs=-1)]: Done  43 tasks      | elapsed: 184.3min\n",
      "[Parallel(n_jobs=-1)]: Done  46 out of  50 | elapsed: 204.1min remaining: 17.7min\n",
      "[Parallel(n_jobs=-1)]: Done  50 out of  50 | elapsed: 221.9min finished\n"
     ]
    },
    {
     "data": {
      "text/plain": [
       "RandomizedSearchCV(cv=5, error_score='raise',\n",
       "          estimator=RandomForestClassifier(bootstrap=True, class_weight=None, criterion='gini',\n",
       "            max_depth=None, max_features='auto', max_leaf_nodes=None,\n",
       "            min_impurity_decrease=0.0, min_impurity_split=None,\n",
       "            min_samples_leaf=1, min_samples_split=2,\n",
       "            min_weight_fraction_leaf=0.0, n_estimators=10, n_jobs=1,\n",
       "            oob_score=False, random_state=None, verbose=0,\n",
       "            warm_start=False),\n",
       "          fit_params=None, iid=True, n_iter=10, n_jobs=-1,\n",
       "          param_distributions={'n_estimators': [100, 200, 300, 500, 700, 1000], 'max_features': [5, 10, 20, 25, 30, 35], 'bootstrap': [True, False], 'class_weight': [None, 'balanced'], 'criterion': ['entropy', 'gini'], 'max_depth': [None, 5, 10, 15, 20, 30, 50, 70], 'min_samples_leaf': [1, 2, 5, 10, 15, 20], 'min_samples_split': [2, 5, 10, 15, 20]},\n",
       "          pre_dispatch='2*n_jobs', random_state=None, refit=True,\n",
       "          return_train_score='warn', scoring='roc_auc', verbose=20)"
      ]
     },
     "execution_count": 38,
     "metadata": {},
     "output_type": "execute_result"
    }
   ],
   "source": [
    "n_iter_search=10\n",
    "\n",
    "random_search = RandomizedSearchCV(rf, param_distributions=param_dist, \n",
    "n_iter=n_iter_search, \n",
    "scoring='roc_auc', \n",
    "cv=5, n_jobs=-1,verbose=20) \n",
    "random_search.fit(x_train, y_train)"
   ]
  },
  {
   "cell_type": "code",
   "execution_count": 40,
   "metadata": {},
   "outputs": [],
   "source": [
    "rf_bt=random_search.best_estimator_"
   ]
  },
  {
   "cell_type": "markdown",
   "metadata": {},
   "source": [
    "RandomForestClassifier(bootstrap=True, class_weight=None, criterion='gini',\n",
    "            max_depth=10, max_features=30, max_leaf_nodes=None,\n",
    "            min_impurity_decrease=0.0, min_impurity_split=None,\n",
    "            min_samples_leaf=20, min_samples_split=10,\n",
    "            min_weight_fraction_leaf=0.0, n_estimators=300, n_jobs=1,\n",
    "            oob_score=False, random_state=None, verbose=0,\n",
    "            warm_start=False)"
   ]
  },
  {
   "cell_type": "code",
   "execution_count": 41,
   "metadata": {},
   "outputs": [],
   "source": [
    "train_score=rf_bt.predict_proba(x_train)"
   ]
  },
  {
   "cell_type": "code",
   "execution_count": 42,
   "metadata": {},
   "outputs": [
    {
     "data": {
      "text/plain": [
       "array([0.01, 0.02, 0.03, 0.04, 0.05, 0.06, 0.07, 0.08, 0.09, 0.1 , 0.11,\n",
       "       0.12, 0.13, 0.14, 0.15, 0.16, 0.17, 0.18, 0.19, 0.2 , 0.21, 0.22,\n",
       "       0.23, 0.24, 0.25, 0.26, 0.27, 0.28, 0.29, 0.3 , 0.31, 0.32, 0.33,\n",
       "       0.34, 0.35, 0.36, 0.37, 0.38, 0.39, 0.4 , 0.41, 0.42, 0.43, 0.44,\n",
       "       0.45, 0.46, 0.47, 0.48, 0.49, 0.5 , 0.51, 0.52, 0.53, 0.54, 0.55,\n",
       "       0.56, 0.57, 0.58, 0.59, 0.6 , 0.61, 0.62, 0.63, 0.64, 0.65, 0.66,\n",
       "       0.67, 0.68, 0.69, 0.7 , 0.71, 0.72, 0.73, 0.74, 0.75, 0.76, 0.77,\n",
       "       0.78, 0.79, 0.8 , 0.81, 0.82, 0.83, 0.84, 0.85, 0.86, 0.87, 0.88,\n",
       "       0.89, 0.9 , 0.91, 0.92, 0.93, 0.94, 0.95, 0.96, 0.97, 0.98, 0.99])"
      ]
     },
     "execution_count": 42,
     "metadata": {},
     "output_type": "execute_result"
    }
   ],
   "source": [
    "cutoffs=np.linspace(0.01,0.99,99)\n",
    "cutoffs"
   ]
  },
  {
   "cell_type": "code",
   "execution_count": 45,
   "metadata": {},
   "outputs": [
    {
     "name": "stdout",
     "output_type": "stream",
     "text": [
      "[0 1]\n"
     ]
    }
   ],
   "source": [
    "train_score=rf_bt.predict_proba(x_train)[:,1] # the predicted response variable values\n",
    "real=y_train # the actual response variable values\n",
    "print(rf_bt.classes_)"
   ]
  },
  {
   "cell_type": "code",
   "execution_count": 46,
   "metadata": {},
   "outputs": [],
   "source": [
    "from sklearn.metrics import fbeta_score"
   ]
  },
  {
   "cell_type": "code",
   "execution_count": 47,
   "metadata": {},
   "outputs": [],
   "source": [
    "KS_all=[]\n",
    "for cutoff in cutoffs:\n",
    "    predicted=(train_score>cutoff).astype(int)\n",
    "    TP=((predicted==1) & (real==1)).sum()\n",
    "    TN=((predicted==0) & (real==0)).sum()\n",
    "    FP=((predicted==1) & (real==0)).sum()\n",
    "    FN=((predicted==0) & (real==1)).sum()\n",
    "    P=TP+FN\n",
    "    N=TN+FP\n",
    "    KS=(TP/P)-(FP/N)\n",
    "    KS_all.append(KS)"
   ]
  },
  {
   "cell_type": "code",
   "execution_count": 48,
   "metadata": {},
   "outputs": [
    {
     "data": {
      "text/plain": [
       "[(0.01, 0.0),\n",
       " (0.02, 0.00027852197671029977),\n",
       " (0.03, 0.000677913399160901),\n",
       " (0.04, 0.0008988298324212884),\n",
       " (0.05, 0.0040606272446808145),\n",
       " (0.060000000000000005, 0.009737470976380669),\n",
       " (0.06999999999999999, 0.017799504350444306),\n",
       " (0.08, 0.022619944682733095),\n",
       " (0.09, 0.03331832966574477),\n",
       " (0.09999999999999999, 0.05912702605382225),\n",
       " (0.11, 0.09864000334371104),\n",
       " (0.12, 0.124211402100328),\n",
       " (0.13, 0.14145305122017937),\n",
       " (0.14, 0.14708559760209405),\n",
       " (0.15000000000000002, 0.15129764802329504),\n",
       " (0.16, 0.1546639354282222),\n",
       " (0.17, 0.16260166545893495),\n",
       " (0.18000000000000002, 0.17149085655596563),\n",
       " (0.19, 0.17772911800364055),\n",
       " (0.2, 0.18053568666212338),\n",
       " (0.21000000000000002, 0.18571665441693141),\n",
       " (0.22, 0.18580863970694322),\n",
       " (0.23, 0.18074182543926287),\n",
       " (0.24000000000000002, 0.1689528364109984),\n",
       " (0.25, 0.15582341011120543),\n",
       " (0.26, 0.1242617435984209),\n",
       " (0.27, 0.0985111351475372),\n",
       " (0.28, 0.08808769574316384),\n",
       " (0.29000000000000004, 0.07683390557511308),\n",
       " (0.3, 0.06372853214499033),\n",
       " (0.31, 0.05766628151904882),\n",
       " (0.32, 0.05379883510718743),\n",
       " (0.33, 0.05010872148408499),\n",
       " (0.34, 0.0473768015706801),\n",
       " (0.35000000000000003, 0.04472675127129927),\n",
       " (0.36000000000000004, 0.04036266930722959),\n",
       " (0.37, 0.038571517172172914),\n",
       " (0.38, 0.03774584023533603),\n",
       " (0.39, 0.03708590885668033),\n",
       " (0.4, 0.03612985673356401),\n",
       " (0.41000000000000003, 0.03599594225843542),\n",
       " (0.42000000000000004, 0.0358802427367556),\n",
       " (0.43, 0.0358392590914959),\n",
       " (0.44, 0.03567957015597005),\n",
       " (0.45, 0.03538641009461301),\n",
       " (0.46, 0.03530904162793851),\n",
       " (0.47000000000000003, 0.03517592368043923),\n",
       " (0.48000000000000004, 0.035117521609360075),\n",
       " (0.49, 0.03495482690524792),\n",
       " (0.5, 0.03485619263105563),\n",
       " (0.51, 0.03479588941186867),\n",
       " (0.52, 0.03468288756592595),\n",
       " (0.53, 0.03461462657597583),\n",
       " (0.54, 0.03453991069955571),\n",
       " (0.55, 0.03449136754734751),\n",
       " (0.56, 0.03446669770742875),\n",
       " (0.5700000000000001, 0.034413600816858354),\n",
       " (0.5800000000000001, 0.03432106825080414),\n",
       " (0.59, 0.03428463834390662),\n",
       " (0.6, 0.03418414800708924),\n",
       " (0.61, 0.033988472513963267),\n",
       " (0.62, 0.033828430400105504),\n",
       " (0.63, 0.03363615893938048),\n",
       " (0.64, 0.03352846227394654),\n",
       " (0.65, 0.03334795088020028),\n",
       " (0.66, 0.03320422257168347),\n",
       " (0.67, 0.03302561232604502),\n",
       " (0.68, 0.03291146077414108),\n",
       " (0.6900000000000001, 0.03278594741907303),\n",
       " (0.7000000000000001, 0.03275181692409797),\n",
       " (0.7100000000000001, 0.032696067443273184),\n",
       " (0.72, 0.032407107941946414),\n",
       " (0.73, 0.032252769272412066),\n",
       " (0.74, 0.03200174256227596),\n",
       " (0.75, 0.03184019756412504),\n",
       " (0.76, 0.03174766499807082),\n",
       " (0.77, 0.03166954508924975),\n",
       " (0.78, 0.031532271667202925),\n",
       " (0.79, 0.031320680632550654),\n",
       " (0.8, 0.0311727968494863),\n",
       " (0.81, 0.031087470612048654),\n",
       " (0.8200000000000001, 0.030942239419238685),\n",
       " (0.8300000000000001, 0.030863368068271033),\n",
       " (0.8400000000000001, 0.030740507303457367),\n",
       " (0.85, 0.030671494871360668),\n",
       " (0.86, 0.030578210863159868),\n",
       " (0.87, 0.030528916268805086),\n",
       " (0.88, 0.030388990256503885),\n",
       " (0.89, 0.030209628568718862),\n",
       " (0.9, 0.030150475055493123),\n",
       " (0.91, 0.030111039380009294),\n",
       " (0.92, 0.029943437759203034),\n",
       " (0.93, 0.029726541544041987),\n",
       " (0.9400000000000001, 0.02946830850528931),\n",
       " (0.9500000000000001, 0.029182399858031567),\n",
       " (0.9600000000000001, 0.02862044148238704),\n",
       " (0.97, 0.028462698780451736),\n",
       " (0.98, 0.02845283986158078),\n",
       " (0.99, 0.028383827429484084)]"
      ]
     },
     "execution_count": 48,
     "metadata": {},
     "output_type": "execute_result"
    }
   ],
   "source": [
    "list(zip(cutoffs,KS_all))"
   ]
  },
  {
   "cell_type": "code",
   "execution_count": 49,
   "metadata": {},
   "outputs": [
    {
     "data": {
      "text/plain": [
       "0.22"
      ]
     },
     "execution_count": 49,
     "metadata": {},
     "output_type": "execute_result"
    }
   ],
   "source": [
    "mycutoff=cutoffs[KS_all==max(KS_all)][0]\n",
    "mycutoff # gives the cutoff value where KS is maximum"
   ]
  },
  {
   "cell_type": "code",
   "execution_count": 50,
   "metadata": {},
   "outputs": [
    {
     "data": {
      "text/plain": [
       "array([0.2430462 , 0.21289707, 0.35106784, ..., 0.13514625, 0.10619577,\n",
       "       0.22521263])"
      ]
     },
     "execution_count": 50,
     "metadata": {},
     "output_type": "execute_result"
    }
   ],
   "source": [
    "test_score=rf_bt.predict_proba(test)[:,1]\n",
    "test_score"
   ]
  },
  {
   "cell_type": "code",
   "execution_count": 51,
   "metadata": {},
   "outputs": [],
   "source": [
    "test_classes=(test_score>mycutoff).astype(int)"
   ]
  },
  {
   "cell_type": "code",
   "execution_count": 57,
   "metadata": {},
   "outputs": [
    {
     "data": {
      "text/html": [
       "<div>\n",
       "<style scoped>\n",
       "    .dataframe tbody tr th:only-of-type {\n",
       "        vertical-align: middle;\n",
       "    }\n",
       "\n",
       "    .dataframe tbody tr th {\n",
       "        vertical-align: top;\n",
       "    }\n",
       "\n",
       "    .dataframe thead th {\n",
       "        text-align: right;\n",
       "    }\n",
       "</style>\n",
       "<table border=\"1\" class=\"dataframe\">\n",
       "  <thead>\n",
       "    <tr style=\"text-align: right;\">\n",
       "      <th></th>\n",
       "      <th>Date received</th>\n",
       "      <th>Product</th>\n",
       "      <th>Sub-product</th>\n",
       "      <th>Issue</th>\n",
       "      <th>Sub-issue</th>\n",
       "      <th>Consumer complaint narrative</th>\n",
       "      <th>Company public response</th>\n",
       "      <th>Company</th>\n",
       "      <th>State</th>\n",
       "      <th>ZIP code</th>\n",
       "      <th>Tags</th>\n",
       "      <th>Consumer consent provided?</th>\n",
       "      <th>Submitted via</th>\n",
       "      <th>Date sent to company</th>\n",
       "      <th>Company response to consumer</th>\n",
       "      <th>Timely response?</th>\n",
       "      <th>Complaint ID</th>\n",
       "    </tr>\n",
       "  </thead>\n",
       "  <tbody>\n",
       "    <tr>\n",
       "      <th>0</th>\n",
       "      <td>2014-01-18</td>\n",
       "      <td>Bank account or service</td>\n",
       "      <td>Cashing a check without an account</td>\n",
       "      <td>Deposits and withdrawals</td>\n",
       "      <td>NaN</td>\n",
       "      <td>NaN</td>\n",
       "      <td>NaN</td>\n",
       "      <td>Bank of America</td>\n",
       "      <td>CA</td>\n",
       "      <td>95691</td>\n",
       "      <td>NaN</td>\n",
       "      <td>NaN</td>\n",
       "      <td>Web</td>\n",
       "      <td>2014-01-17</td>\n",
       "      <td>Closed with explanation</td>\n",
       "      <td>Yes</td>\n",
       "      <td>675956</td>\n",
       "    </tr>\n",
       "    <tr>\n",
       "      <th>1</th>\n",
       "      <td>2016-03-31</td>\n",
       "      <td>Debt collection</td>\n",
       "      <td>Credit card</td>\n",
       "      <td>Cont'd attempts collect debt not owed</td>\n",
       "      <td>Debt was paid</td>\n",
       "      <td>NaN</td>\n",
       "      <td>NaN</td>\n",
       "      <td>National Credit Adjusters, LLC</td>\n",
       "      <td>FL</td>\n",
       "      <td>32086</td>\n",
       "      <td>NaN</td>\n",
       "      <td>Consent not provided</td>\n",
       "      <td>Web</td>\n",
       "      <td>2016-03-31</td>\n",
       "      <td>Closed with explanation</td>\n",
       "      <td>Yes</td>\n",
       "      <td>1858795</td>\n",
       "    </tr>\n",
       "    <tr>\n",
       "      <th>2</th>\n",
       "      <td>2012-03-08</td>\n",
       "      <td>Mortgage</td>\n",
       "      <td>Conventional adjustable mortgage (ARM)</td>\n",
       "      <td>Loan servicing, payments, escrow account</td>\n",
       "      <td>NaN</td>\n",
       "      <td>NaN</td>\n",
       "      <td>NaN</td>\n",
       "      <td>Wells Fargo &amp; Company</td>\n",
       "      <td>CA</td>\n",
       "      <td>94618</td>\n",
       "      <td>NaN</td>\n",
       "      <td>NaN</td>\n",
       "      <td>Web</td>\n",
       "      <td>2012-03-09</td>\n",
       "      <td>Closed without relief</td>\n",
       "      <td>Yes</td>\n",
       "      <td>32637</td>\n",
       "    </tr>\n",
       "    <tr>\n",
       "      <th>3</th>\n",
       "      <td>2016-01-07</td>\n",
       "      <td>Credit reporting</td>\n",
       "      <td>NaN</td>\n",
       "      <td>Unable to get credit report/credit score</td>\n",
       "      <td>Problem getting report or credit score</td>\n",
       "      <td>NaN</td>\n",
       "      <td>Company chooses not to provide a public response</td>\n",
       "      <td>TransUnion Intermediate Holdings, Inc.</td>\n",
       "      <td>FL</td>\n",
       "      <td>33584</td>\n",
       "      <td>Older American</td>\n",
       "      <td>NaN</td>\n",
       "      <td>Postal mail</td>\n",
       "      <td>2016-01-12</td>\n",
       "      <td>Closed with non-monetary relief</td>\n",
       "      <td>Yes</td>\n",
       "      <td>1731374</td>\n",
       "    </tr>\n",
       "    <tr>\n",
       "      <th>4</th>\n",
       "      <td>2013-08-23</td>\n",
       "      <td>Mortgage</td>\n",
       "      <td>FHA mortgage</td>\n",
       "      <td>Loan modification,collection,foreclosure</td>\n",
       "      <td>NaN</td>\n",
       "      <td>NaN</td>\n",
       "      <td>NaN</td>\n",
       "      <td>Bank of America</td>\n",
       "      <td>FL</td>\n",
       "      <td>33543</td>\n",
       "      <td>NaN</td>\n",
       "      <td>NaN</td>\n",
       "      <td>Web</td>\n",
       "      <td>2013-08-23</td>\n",
       "      <td>Closed with explanation</td>\n",
       "      <td>Yes</td>\n",
       "      <td>501487</td>\n",
       "    </tr>\n",
       "  </tbody>\n",
       "</table>\n",
       "</div>"
      ],
      "text/plain": [
       "  Date received                  Product  \\\n",
       "0    2014-01-18  Bank account or service   \n",
       "1    2016-03-31          Debt collection   \n",
       "2    2012-03-08                 Mortgage   \n",
       "3    2016-01-07         Credit reporting   \n",
       "4    2013-08-23                 Mortgage   \n",
       "\n",
       "                              Sub-product  \\\n",
       "0      Cashing a check without an account   \n",
       "1                             Credit card   \n",
       "2  Conventional adjustable mortgage (ARM)   \n",
       "3                                     NaN   \n",
       "4                            FHA mortgage   \n",
       "\n",
       "                                      Issue  \\\n",
       "0                  Deposits and withdrawals   \n",
       "1     Cont'd attempts collect debt not owed   \n",
       "2  Loan servicing, payments, escrow account   \n",
       "3  Unable to get credit report/credit score   \n",
       "4  Loan modification,collection,foreclosure   \n",
       "\n",
       "                                Sub-issue Consumer complaint narrative  \\\n",
       "0                                     NaN                          NaN   \n",
       "1                           Debt was paid                          NaN   \n",
       "2                                     NaN                          NaN   \n",
       "3  Problem getting report or credit score                          NaN   \n",
       "4                                     NaN                          NaN   \n",
       "\n",
       "                            Company public response  \\\n",
       "0                                               NaN   \n",
       "1                                               NaN   \n",
       "2                                               NaN   \n",
       "3  Company chooses not to provide a public response   \n",
       "4                                               NaN   \n",
       "\n",
       "                                  Company State ZIP code            Tags  \\\n",
       "0                         Bank of America    CA    95691             NaN   \n",
       "1          National Credit Adjusters, LLC    FL    32086             NaN   \n",
       "2                   Wells Fargo & Company    CA    94618             NaN   \n",
       "3  TransUnion Intermediate Holdings, Inc.    FL    33584  Older American   \n",
       "4                         Bank of America    FL    33543             NaN   \n",
       "\n",
       "  Consumer consent provided? Submitted via Date sent to company  \\\n",
       "0                        NaN           Web           2014-01-17   \n",
       "1       Consent not provided           Web           2016-03-31   \n",
       "2                        NaN           Web           2012-03-09   \n",
       "3                        NaN   Postal mail           2016-01-12   \n",
       "4                        NaN           Web           2013-08-23   \n",
       "\n",
       "      Company response to consumer Timely response?  Complaint ID  \n",
       "0          Closed with explanation              Yes        675956  \n",
       "1          Closed with explanation              Yes       1858795  \n",
       "2            Closed without relief              Yes         32637  \n",
       "3  Closed with non-monetary relief              Yes       1731374  \n",
       "4          Closed with explanation              Yes        501487  "
      ]
     },
     "execution_count": 57,
     "metadata": {},
     "output_type": "execute_result"
    }
   ],
   "source": [
    "test5.head()"
   ]
  },
  {
   "cell_type": "code",
   "execution_count": 58,
   "metadata": {},
   "outputs": [],
   "source": [
    "CustID=test5['Complaint ID']"
   ]
  },
  {
   "cell_type": "code",
   "execution_count": 52,
   "metadata": {},
   "outputs": [],
   "source": [
    "pd.DataFrame(test_classes).to_csv(\"ShraddhaP1.csv\",index=False)"
   ]
  },
  {
   "cell_type": "code",
   "execution_count": 82,
   "metadata": {},
   "outputs": [],
   "source": [
    "ClsSvm=clf_svm"
   ]
  },
  {
   "cell_type": "code",
   "execution_count": 83,
   "metadata": {},
   "outputs": [
    {
     "data": {
      "text/plain": [
       "SVC(C=1.0, cache_size=200, class_weight=None, coef0=0.0,\n",
       "  decision_function_shape='ovr', degree=3, gamma='auto', kernel='rbf',\n",
       "  max_iter=-1, probability=False, random_state=None, shrinking=True,\n",
       "  tol=0.001, verbose=False)"
      ]
     },
     "execution_count": 83,
     "metadata": {},
     "output_type": "execute_result"
    }
   ],
   "source": [
    "ClsSvm"
   ]
  },
  {
   "cell_type": "code",
   "execution_count": 85,
   "metadata": {},
   "outputs": [],
   "source": [
    "train_score=clf_svm.predict(x_train)"
   ]
  },
  {
   "cell_type": "code",
   "execution_count": 87,
   "metadata": {},
   "outputs": [
    {
     "data": {
      "text/plain": [
       "3979"
      ]
     },
     "execution_count": 87,
     "metadata": {},
     "output_type": "execute_result"
    }
   ],
   "source": [
    "train_score.sum()"
   ]
  },
  {
   "cell_type": "code",
   "execution_count": 88,
   "metadata": {},
   "outputs": [],
   "source": [
    "test_score=clf_svm.predict(test)"
   ]
  },
  {
   "cell_type": "code",
   "execution_count": 79,
   "metadata": {},
   "outputs": [
    {
     "data": {
      "text/plain": [
       "61699"
      ]
     },
     "execution_count": 79,
     "metadata": {},
     "output_type": "execute_result"
    }
   ],
   "source": [
    "test_classes.sum()"
   ]
  },
  {
   "cell_type": "code",
   "execution_count": 76,
   "metadata": {},
   "outputs": [],
   "source": [
    "from sklearn.metrics import roc_curve, auc, roc_auc_score,accuracy_score"
   ]
  },
  {
   "cell_type": "code",
   "execution_count": 77,
   "metadata": {},
   "outputs": [
    {
     "data": {
      "text/plain": [
       "0.6362181806979488"
      ]
     },
     "execution_count": 77,
     "metadata": {},
     "output_type": "execute_result"
    }
   ],
   "source": [
    "roc_auc_score(y_train,train_score)"
   ]
  },
  {
   "cell_type": "code",
   "execution_count": 65,
   "metadata": {},
   "outputs": [],
   "source": [
    "test_classes=(test_score>mycutoff).astype(int)"
   ]
  },
  {
   "cell_type": "code",
   "execution_count": 66,
   "metadata": {},
   "outputs": [],
   "source": [
    "target=pd.DataFrame(test_classes)"
   ]
  },
  {
   "cell_type": "code",
   "execution_count": 67,
   "metadata": {},
   "outputs": [
    {
     "data": {
      "text/plain": [
       "0    int32\n",
       "dtype: object"
      ]
     },
     "execution_count": 67,
     "metadata": {},
     "output_type": "execute_result"
    }
   ],
   "source": [
    "target.dtypes"
   ]
  },
  {
   "cell_type": "code",
   "execution_count": 68,
   "metadata": {},
   "outputs": [],
   "source": [
    "target=target.replace(to_replace=[0,1], value=['No', 'Yes'])"
   ]
  },
  {
   "cell_type": "code",
   "execution_count": 71,
   "metadata": {
    "scrolled": false
   },
   "outputs": [],
   "source": [
    "final=pd.concat([test5['Complaint ID'],target],axis=1)"
   ]
  },
  {
   "cell_type": "code",
   "execution_count": 63,
   "metadata": {},
   "outputs": [
    {
     "data": {
      "text/plain": [
       "array([1, 0, 1, ..., 0, 0, 1])"
      ]
     },
     "execution_count": 63,
     "metadata": {},
     "output_type": "execute_result"
    }
   ],
   "source": [
    "test_classes"
   ]
  },
  {
   "cell_type": "code",
   "execution_count": 73,
   "metadata": {},
   "outputs": [],
   "source": [
    "final=final.rename(columns={0:'Consumer disputed?'})"
   ]
  },
  {
   "cell_type": "code",
   "execution_count": 74,
   "metadata": {},
   "outputs": [
    {
     "data": {
      "text/html": [
       "<div>\n",
       "<style scoped>\n",
       "    .dataframe tbody tr th:only-of-type {\n",
       "        vertical-align: middle;\n",
       "    }\n",
       "\n",
       "    .dataframe tbody tr th {\n",
       "        vertical-align: top;\n",
       "    }\n",
       "\n",
       "    .dataframe thead th {\n",
       "        text-align: right;\n",
       "    }\n",
       "</style>\n",
       "<table border=\"1\" class=\"dataframe\">\n",
       "  <thead>\n",
       "    <tr style=\"text-align: right;\">\n",
       "      <th></th>\n",
       "      <th>Complaint ID</th>\n",
       "      <th>Consumer disputed?</th>\n",
       "    </tr>\n",
       "  </thead>\n",
       "  <tbody>\n",
       "    <tr>\n",
       "      <th>0</th>\n",
       "      <td>675956</td>\n",
       "      <td>Yes</td>\n",
       "    </tr>\n",
       "    <tr>\n",
       "      <th>1</th>\n",
       "      <td>1858795</td>\n",
       "      <td>No</td>\n",
       "    </tr>\n",
       "    <tr>\n",
       "      <th>2</th>\n",
       "      <td>32637</td>\n",
       "      <td>Yes</td>\n",
       "    </tr>\n",
       "    <tr>\n",
       "      <th>3</th>\n",
       "      <td>1731374</td>\n",
       "      <td>No</td>\n",
       "    </tr>\n",
       "    <tr>\n",
       "      <th>4</th>\n",
       "      <td>501487</td>\n",
       "      <td>Yes</td>\n",
       "    </tr>\n",
       "    <tr>\n",
       "      <th>5</th>\n",
       "      <td>631565</td>\n",
       "      <td>Yes</td>\n",
       "    </tr>\n",
       "    <tr>\n",
       "      <th>6</th>\n",
       "      <td>1283963</td>\n",
       "      <td>Yes</td>\n",
       "    </tr>\n",
       "    <tr>\n",
       "      <th>7</th>\n",
       "      <td>1902970</td>\n",
       "      <td>No</td>\n",
       "    </tr>\n",
       "    <tr>\n",
       "      <th>8</th>\n",
       "      <td>1160691</td>\n",
       "      <td>No</td>\n",
       "    </tr>\n",
       "    <tr>\n",
       "      <th>9</th>\n",
       "      <td>359929</td>\n",
       "      <td>No</td>\n",
       "    </tr>\n",
       "    <tr>\n",
       "      <th>10</th>\n",
       "      <td>1556011</td>\n",
       "      <td>No</td>\n",
       "    </tr>\n",
       "    <tr>\n",
       "      <th>11</th>\n",
       "      <td>1296392</td>\n",
       "      <td>Yes</td>\n",
       "    </tr>\n",
       "    <tr>\n",
       "      <th>12</th>\n",
       "      <td>1726159</td>\n",
       "      <td>No</td>\n",
       "    </tr>\n",
       "    <tr>\n",
       "      <th>13</th>\n",
       "      <td>709197</td>\n",
       "      <td>Yes</td>\n",
       "    </tr>\n",
       "    <tr>\n",
       "      <th>14</th>\n",
       "      <td>1938442</td>\n",
       "      <td>No</td>\n",
       "    </tr>\n",
       "    <tr>\n",
       "      <th>15</th>\n",
       "      <td>1820696</td>\n",
       "      <td>Yes</td>\n",
       "    </tr>\n",
       "    <tr>\n",
       "      <th>16</th>\n",
       "      <td>404613</td>\n",
       "      <td>Yes</td>\n",
       "    </tr>\n",
       "    <tr>\n",
       "      <th>17</th>\n",
       "      <td>461579</td>\n",
       "      <td>No</td>\n",
       "    </tr>\n",
       "    <tr>\n",
       "      <th>18</th>\n",
       "      <td>1804301</td>\n",
       "      <td>No</td>\n",
       "    </tr>\n",
       "    <tr>\n",
       "      <th>19</th>\n",
       "      <td>991776</td>\n",
       "      <td>Yes</td>\n",
       "    </tr>\n",
       "    <tr>\n",
       "      <th>20</th>\n",
       "      <td>905800</td>\n",
       "      <td>Yes</td>\n",
       "    </tr>\n",
       "    <tr>\n",
       "      <th>21</th>\n",
       "      <td>1084080</td>\n",
       "      <td>Yes</td>\n",
       "    </tr>\n",
       "    <tr>\n",
       "      <th>22</th>\n",
       "      <td>186053</td>\n",
       "      <td>No</td>\n",
       "    </tr>\n",
       "    <tr>\n",
       "      <th>23</th>\n",
       "      <td>315404</td>\n",
       "      <td>No</td>\n",
       "    </tr>\n",
       "    <tr>\n",
       "      <th>24</th>\n",
       "      <td>200409</td>\n",
       "      <td>Yes</td>\n",
       "    </tr>\n",
       "    <tr>\n",
       "      <th>25</th>\n",
       "      <td>204816</td>\n",
       "      <td>No</td>\n",
       "    </tr>\n",
       "    <tr>\n",
       "      <th>26</th>\n",
       "      <td>432696</td>\n",
       "      <td>Yes</td>\n",
       "    </tr>\n",
       "    <tr>\n",
       "      <th>27</th>\n",
       "      <td>1787512</td>\n",
       "      <td>No</td>\n",
       "    </tr>\n",
       "    <tr>\n",
       "      <th>28</th>\n",
       "      <td>25867</td>\n",
       "      <td>Yes</td>\n",
       "    </tr>\n",
       "    <tr>\n",
       "      <th>29</th>\n",
       "      <td>679290</td>\n",
       "      <td>Yes</td>\n",
       "    </tr>\n",
       "    <tr>\n",
       "      <th>...</th>\n",
       "      <td>...</td>\n",
       "      <td>...</td>\n",
       "    </tr>\n",
       "    <tr>\n",
       "      <th>119576</th>\n",
       "      <td>1520900</td>\n",
       "      <td>Yes</td>\n",
       "    </tr>\n",
       "    <tr>\n",
       "      <th>119577</th>\n",
       "      <td>479863</td>\n",
       "      <td>Yes</td>\n",
       "    </tr>\n",
       "    <tr>\n",
       "      <th>119578</th>\n",
       "      <td>1777927</td>\n",
       "      <td>Yes</td>\n",
       "    </tr>\n",
       "    <tr>\n",
       "      <th>119579</th>\n",
       "      <td>1548582</td>\n",
       "      <td>Yes</td>\n",
       "    </tr>\n",
       "    <tr>\n",
       "      <th>119580</th>\n",
       "      <td>1275148</td>\n",
       "      <td>Yes</td>\n",
       "    </tr>\n",
       "    <tr>\n",
       "      <th>119581</th>\n",
       "      <td>818483</td>\n",
       "      <td>No</td>\n",
       "    </tr>\n",
       "    <tr>\n",
       "      <th>119582</th>\n",
       "      <td>1816985</td>\n",
       "      <td>Yes</td>\n",
       "    </tr>\n",
       "    <tr>\n",
       "      <th>119583</th>\n",
       "      <td>1478680</td>\n",
       "      <td>No</td>\n",
       "    </tr>\n",
       "    <tr>\n",
       "      <th>119584</th>\n",
       "      <td>1541161</td>\n",
       "      <td>Yes</td>\n",
       "    </tr>\n",
       "    <tr>\n",
       "      <th>119585</th>\n",
       "      <td>1940295</td>\n",
       "      <td>No</td>\n",
       "    </tr>\n",
       "    <tr>\n",
       "      <th>119586</th>\n",
       "      <td>1612482</td>\n",
       "      <td>Yes</td>\n",
       "    </tr>\n",
       "    <tr>\n",
       "      <th>119587</th>\n",
       "      <td>1917659</td>\n",
       "      <td>Yes</td>\n",
       "    </tr>\n",
       "    <tr>\n",
       "      <th>119588</th>\n",
       "      <td>579043</td>\n",
       "      <td>No</td>\n",
       "    </tr>\n",
       "    <tr>\n",
       "      <th>119589</th>\n",
       "      <td>1579181</td>\n",
       "      <td>No</td>\n",
       "    </tr>\n",
       "    <tr>\n",
       "      <th>119590</th>\n",
       "      <td>1687196</td>\n",
       "      <td>No</td>\n",
       "    </tr>\n",
       "    <tr>\n",
       "      <th>119591</th>\n",
       "      <td>1795025</td>\n",
       "      <td>No</td>\n",
       "    </tr>\n",
       "    <tr>\n",
       "      <th>119592</th>\n",
       "      <td>1203263</td>\n",
       "      <td>Yes</td>\n",
       "    </tr>\n",
       "    <tr>\n",
       "      <th>119593</th>\n",
       "      <td>1623492</td>\n",
       "      <td>Yes</td>\n",
       "    </tr>\n",
       "    <tr>\n",
       "      <th>119594</th>\n",
       "      <td>1348439</td>\n",
       "      <td>No</td>\n",
       "    </tr>\n",
       "    <tr>\n",
       "      <th>119595</th>\n",
       "      <td>787354</td>\n",
       "      <td>No</td>\n",
       "    </tr>\n",
       "    <tr>\n",
       "      <th>119596</th>\n",
       "      <td>355153</td>\n",
       "      <td>Yes</td>\n",
       "    </tr>\n",
       "    <tr>\n",
       "      <th>119597</th>\n",
       "      <td>41454</td>\n",
       "      <td>Yes</td>\n",
       "    </tr>\n",
       "    <tr>\n",
       "      <th>119598</th>\n",
       "      <td>1199073</td>\n",
       "      <td>No</td>\n",
       "    </tr>\n",
       "    <tr>\n",
       "      <th>119599</th>\n",
       "      <td>1373643</td>\n",
       "      <td>Yes</td>\n",
       "    </tr>\n",
       "    <tr>\n",
       "      <th>119600</th>\n",
       "      <td>249454</td>\n",
       "      <td>Yes</td>\n",
       "    </tr>\n",
       "    <tr>\n",
       "      <th>119601</th>\n",
       "      <td>153482</td>\n",
       "      <td>No</td>\n",
       "    </tr>\n",
       "    <tr>\n",
       "      <th>119602</th>\n",
       "      <td>2023523</td>\n",
       "      <td>Yes</td>\n",
       "    </tr>\n",
       "    <tr>\n",
       "      <th>119603</th>\n",
       "      <td>1413678</td>\n",
       "      <td>No</td>\n",
       "    </tr>\n",
       "    <tr>\n",
       "      <th>119604</th>\n",
       "      <td>732458</td>\n",
       "      <td>No</td>\n",
       "    </tr>\n",
       "    <tr>\n",
       "      <th>119605</th>\n",
       "      <td>1235226</td>\n",
       "      <td>Yes</td>\n",
       "    </tr>\n",
       "  </tbody>\n",
       "</table>\n",
       "<p>119606 rows × 2 columns</p>\n",
       "</div>"
      ],
      "text/plain": [
       "        Complaint ID Consumer disputed?\n",
       "0             675956                Yes\n",
       "1            1858795                 No\n",
       "2              32637                Yes\n",
       "3            1731374                 No\n",
       "4             501487                Yes\n",
       "5             631565                Yes\n",
       "6            1283963                Yes\n",
       "7            1902970                 No\n",
       "8            1160691                 No\n",
       "9             359929                 No\n",
       "10           1556011                 No\n",
       "11           1296392                Yes\n",
       "12           1726159                 No\n",
       "13            709197                Yes\n",
       "14           1938442                 No\n",
       "15           1820696                Yes\n",
       "16            404613                Yes\n",
       "17            461579                 No\n",
       "18           1804301                 No\n",
       "19            991776                Yes\n",
       "20            905800                Yes\n",
       "21           1084080                Yes\n",
       "22            186053                 No\n",
       "23            315404                 No\n",
       "24            200409                Yes\n",
       "25            204816                 No\n",
       "26            432696                Yes\n",
       "27           1787512                 No\n",
       "28             25867                Yes\n",
       "29            679290                Yes\n",
       "...              ...                ...\n",
       "119576       1520900                Yes\n",
       "119577        479863                Yes\n",
       "119578       1777927                Yes\n",
       "119579       1548582                Yes\n",
       "119580       1275148                Yes\n",
       "119581        818483                 No\n",
       "119582       1816985                Yes\n",
       "119583       1478680                 No\n",
       "119584       1541161                Yes\n",
       "119585       1940295                 No\n",
       "119586       1612482                Yes\n",
       "119587       1917659                Yes\n",
       "119588        579043                 No\n",
       "119589       1579181                 No\n",
       "119590       1687196                 No\n",
       "119591       1795025                 No\n",
       "119592       1203263                Yes\n",
       "119593       1623492                Yes\n",
       "119594       1348439                 No\n",
       "119595        787354                 No\n",
       "119596        355153                Yes\n",
       "119597         41454                Yes\n",
       "119598       1199073                 No\n",
       "119599       1373643                Yes\n",
       "119600        249454                Yes\n",
       "119601        153482                 No\n",
       "119602       2023523                Yes\n",
       "119603       1413678                 No\n",
       "119604        732458                 No\n",
       "119605       1235226                Yes\n",
       "\n",
       "[119606 rows x 2 columns]"
      ]
     },
     "execution_count": 74,
     "metadata": {},
     "output_type": "execute_result"
    }
   ],
   "source": [
    "final"
   ]
  },
  {
   "cell_type": "code",
   "execution_count": 122,
   "metadata": {},
   "outputs": [],
   "source": [
    "final=pd.concat([CustID,target])"
   ]
  },
  {
   "cell_type": "code",
   "execution_count": 75,
   "metadata": {},
   "outputs": [],
   "source": [
    "pd.DataFrame(final).to_csv(\"ShraddhaShirke_Pro1.csv\",index=False)"
   ]
  },
  {
   "cell_type": "code",
   "execution_count": null,
   "metadata": {},
   "outputs": [],
   "source": []
  }
 ],
 "metadata": {
  "kernelspec": {
   "display_name": "Python 3",
   "language": "python",
   "name": "python3"
  },
  "language_info": {
   "codemirror_mode": {
    "name": "ipython",
    "version": 3
   },
   "file_extension": ".py",
   "mimetype": "text/x-python",
   "name": "python",
   "nbconvert_exporter": "python",
   "pygments_lexer": "ipython3",
   "version": "3.6.8"
  }
 },
 "nbformat": 4,
 "nbformat_minor": 2
}
